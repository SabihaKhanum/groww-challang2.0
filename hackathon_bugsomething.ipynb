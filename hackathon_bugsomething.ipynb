{
  "nbformat": 4,
  "nbformat_minor": 0,
  "metadata": {
    "colab": {
      "provenance": [],
      "authorship_tag": "ABX9TyNEa2+hhVEVKJFRFPgpk9Bn",
      "include_colab_link": true
    },
    "kernelspec": {
      "name": "python3",
      "display_name": "Python 3"
    },
    "language_info": {
      "name": "python"
    }
  },
  "cells": [
    {
      "cell_type": "markdown",
      "metadata": {
        "id": "view-in-github",
        "colab_type": "text"
      },
      "source": [
        "<a href=\"https://colab.research.google.com/github/SabihaKhanum/PythonFastAPI/blob/main/hackathon_bugsomething.ipynb\" target=\"_parent\"><img src=\"https://colab.research.google.com/assets/colab-badge.svg\" alt=\"Open In Colab\"/></a>"
      ]
    },
    {
      "cell_type": "markdown",
      "source": [
        "so i am basically, fetching data via Alpha Vantage.\n",
        "creating the csv\n",
        "pre-process the data\n",
        "LSTM"
      ],
      "metadata": {
        "id": "YcuJC4EN12Pm"
      }
    },
    {
      "cell_type": "code",
      "execution_count": 2,
      "metadata": {
        "colab": {
          "base_uri": "https://localhost:8080/"
        },
        "id": "SP09JDTe1xti",
        "outputId": "67731a9c-de52-4bd5-d443-43254ca6e7c7"
      },
      "outputs": [
        {
          "output_type": "stream",
          "name": "stdout",
          "text": [
            "Collecting alpha_vantage\n",
            "  Downloading alpha_vantage-2.3.1-py3-none-any.whl (31 kB)\n",
            "Requirement already satisfied: aiohttp in /usr/local/lib/python3.10/dist-packages (from alpha_vantage) (3.9.3)\n",
            "Requirement already satisfied: requests in /usr/local/lib/python3.10/dist-packages (from alpha_vantage) (2.31.0)\n",
            "Requirement already satisfied: aiosignal>=1.1.2 in /usr/local/lib/python3.10/dist-packages (from aiohttp->alpha_vantage) (1.3.1)\n",
            "Requirement already satisfied: attrs>=17.3.0 in /usr/local/lib/python3.10/dist-packages (from aiohttp->alpha_vantage) (23.2.0)\n",
            "Requirement already satisfied: frozenlist>=1.1.1 in /usr/local/lib/python3.10/dist-packages (from aiohttp->alpha_vantage) (1.4.1)\n",
            "Requirement already satisfied: multidict<7.0,>=4.5 in /usr/local/lib/python3.10/dist-packages (from aiohttp->alpha_vantage) (6.0.5)\n",
            "Requirement already satisfied: yarl<2.0,>=1.0 in /usr/local/lib/python3.10/dist-packages (from aiohttp->alpha_vantage) (1.9.4)\n",
            "Requirement already satisfied: async-timeout<5.0,>=4.0 in /usr/local/lib/python3.10/dist-packages (from aiohttp->alpha_vantage) (4.0.3)\n",
            "Requirement already satisfied: charset-normalizer<4,>=2 in /usr/local/lib/python3.10/dist-packages (from requests->alpha_vantage) (3.3.2)\n",
            "Requirement already satisfied: idna<4,>=2.5 in /usr/local/lib/python3.10/dist-packages (from requests->alpha_vantage) (3.6)\n",
            "Requirement already satisfied: urllib3<3,>=1.21.1 in /usr/local/lib/python3.10/dist-packages (from requests->alpha_vantage) (2.0.7)\n",
            "Requirement already satisfied: certifi>=2017.4.17 in /usr/local/lib/python3.10/dist-packages (from requests->alpha_vantage) (2024.2.2)\n",
            "Installing collected packages: alpha_vantage\n",
            "Successfully installed alpha_vantage-2.3.1\n"
          ]
        }
      ],
      "source": [
        "pip install alpha_vantage"
      ]
    },
    {
      "cell_type": "code",
      "source": [
        "import pandas as pd\n",
        "import numpy as np\n",
        "import matplotlib.pyplot as plt\n",
        "import plotly.express as px\n",
        "import plotly.graph_objects as go\n",
        "import seaborn as sns\n",
        "sns.set_style('whitegrid')\n",
        "plt.style.use('https://github.com/dhaitz/matplotlib-stylesheets/raw/master/pitayasmoothie-dark.mplstyle')\n",
        "from sklearn.preprocessing import StandardScaler\n",
        "from sklearn.metrics import mean_squared_error\n",
        "from keras.models import Sequential\n",
        "from keras.layers import LSTM, Dense\n",
        "from datetime import datetime, timedelta\n",
        "import math\n"
      ],
      "metadata": {
        "id": "ue3JCh262Qrr"
      },
      "execution_count": 3,
      "outputs": []
    },
    {
      "cell_type": "code",
      "source": [
        "import pandas as pd\n",
        "from alpha_vantage.timeseries import TimeSeries\n",
        "\n",
        "api_key = 'OCXCT0FV6PJNPL9P'\n",
        "ts = TimeSeries(key=api_key, output_format='pandas')\n",
        "#add company variable here\n",
        "data, meta_data = ts.get_intraday(symbol='AAPL', interval='1min', outputsize='full')\n",
        "stock_data = data.iloc[::-1]\n",
        "stock_data.to_csv('stock_data.csv', index_label='time')\n",
        "list(stock_data)"
      ],
      "metadata": {
        "colab": {
          "base_uri": "https://localhost:8080/"
        },
        "id": "UiHADgzj2Ure",
        "outputId": "57fde928-0904-44b4-96c5-dce8ac037705"
      },
      "execution_count": 4,
      "outputs": [
        {
          "output_type": "execute_result",
          "data": {
            "text/plain": [
              "['1. open', '2. high', '3. low', '4. close', '5. volume']"
            ]
          },
          "metadata": {},
          "execution_count": 4
        }
      ]
    },
    {
      "cell_type": "markdown",
      "source": [
        "**Open**: This column represents the opening price of the stock on the current trading day.\n",
        "**High**: This column represents the highest price of the stock reached during the trading day.\n",
        "**Low**: This column represents the lowest price of the stock reached during the trading day.\n",
        "**Last**: This column represents the price of the stock at the last transaction of the trading day.\n",
        "**Close**: This column represents the closing price of the stock on the current trading day."
      ],
      "metadata": {
        "id": "KnaXe1qq3NZP"
      }
    },
    {
      "cell_type": "code",
      "source": [
        "import numpy as np\n",
        "from sklearn.preprocessing import MinMaxScaler\n",
        "\n",
        "stock_data = pd.read_csv('stock_data.csv', index_col='time')\n",
        "\n",
        "# Normalize stock data\n",
        "scaler = MinMaxScaler()\n",
        "stock_data_scaled = scaler.fit_transform(stock_data[['1. open', '2. high', '3. low', '4. close', '5. volume']])\n",
        "close_scaler = MinMaxScaler()\n",
        "close_scaler.fit(stock_data[['4. close']])\n",
        "# Split data\n",
        "train_data = stock_data_scaled[:int(0.8*len(stock_data_scaled))] #training set (used to train mode)\n",
        "test_data = stock_data_scaled[int(0.8*len(stock_data_scaled)):] #testing set"
      ],
      "metadata": {
        "id": "Td86qNTv3APS"
      },
      "execution_count": 5,
      "outputs": []
    },
    {
      "cell_type": "markdown",
      "source": [
        "why use minmax scalar?\n",
        "basically scales the entire dataset between 0 and 1\n",
        "\n",
        "what else can i use instead of minmax?\n",
        "standard scalar, normalisation etc."
      ],
      "metadata": {
        "id": "4oSF1epT6P6Z"
      }
    },
    {
      "cell_type": "code",
      "source": [
        "import torch\n",
        "import torch.nn as nn\n",
        "\n",
        "# Define LSTM model\n",
        "class StockPredictionLSTM(nn.Module):\n",
        "    def __init__(self, input_size, hidden_size, output_size):\n",
        "        super().__init__()\n",
        "        self.hidden_size = hidden_size\n",
        "        self.lstm = nn.LSTM(input_size, hidden_size, batch_first=True)\n",
        "        self.linear = nn.Linear(hidden_size, output_size)\n",
        "\n",
        "    def forward(self, x):\n",
        "        _, (hidden, cell) = self.lstm(x)\n",
        "        hidden = hidden[-1]\n",
        "        output = self.linear(hidden)\n",
        "        return output\n",
        "\n",
        "# Initialize model, loss, and optimizer\n",
        "input_size = 5  # Number of features\n",
        "hidden_size = 64\n",
        "output_size = 1  # Predicting closing price\n",
        "model = StockPredictionLSTM(input_size, hidden_size, output_size)\n",
        "criterion = nn.MSELoss()\n",
        "optimizer = torch.optim.Adam(model.parameters(), lr=0.001)\n",
        "\n",
        "# Train model\n",
        "epochs = 100\n",
        "for epoch in range(epochs):\n",
        "    inputs = torch.from_numpy(train_data[:-1]).unsqueeze(0).float()\n",
        "    targets = torch.from_numpy(train_data[1:, 3]).unsqueeze(0).float()\n",
        "\n",
        "    optimizer.zero_grad()\n",
        "    outputs = model(inputs)\n",
        "    loss = criterion(outputs, targets)\n",
        "    loss.backward()\n",
        "    optimizer.step()"
      ],
      "metadata": {
        "colab": {
          "base_uri": "https://localhost:8080/"
        },
        "id": "_snTS2bm50HA",
        "outputId": "352281a8-14b2-4b3d-d359-a02106cffa8b"
      },
      "execution_count": 6,
      "outputs": [
        {
          "output_type": "stream",
          "name": "stderr",
          "text": [
            "/usr/local/lib/python3.10/dist-packages/torch/nn/modules/loss.py:535: UserWarning: Using a target size (torch.Size([1, 11499])) that is different to the input size (torch.Size([1, 1])). This will likely lead to incorrect results due to broadcasting. Please ensure they have the same size.\n",
            "  return F.mse_loss(input, target, reduction=self.reduction)\n"
          ]
        }
      ]
    },
    {
      "cell_type": "markdown",
      "source": [
        "used GPT4 cause my god is it tough."
      ],
      "metadata": {
        "id": "sNJPqP7t7ZZI"
      }
    },
    {
      "cell_type": "code",
      "source": [
        "test_inputs = torch.from_numpy(test_data[:-1]).unsqueeze(0).float()\n",
        "test_predictions = model(test_inputs).detach().numpy()\n",
        "print(test_predictions)\n",
        "\n",
        "# Inverse transform predictions using the closing price scaler\n",
        "test_predictions_rescaled = close_scaler.inverse_transform(test_predictions.reshape(-1, 1))\n",
        "print(test_predictions_rescaled)"
      ],
      "metadata": {
        "colab": {
          "base_uri": "https://localhost:8080/"
        },
        "id": "PltQu2o27c2G",
        "outputId": "15adc1fc-65fc-4515-94cf-e9a311ff8e1b"
      },
      "execution_count": 7,
      "outputs": [
        {
          "output_type": "stream",
          "name": "stdout",
          "text": [
            "[[0.50818205]]\n",
            "[[172.69543]]\n"
          ]
        }
      ]
    },
    {
      "cell_type": "code",
      "source": [
        "recent_data = stock_data_scaled[-1]\n",
        "#again, add the variable.\n",
        "num_future_days = 5\n",
        "\n",
        "# Predict future prices\n",
        "future_predictions = []\n",
        "for _ in range(num_future_days):\n",
        "    prediction = model(torch.from_numpy(recent_data).unsqueeze(0).float()).detach().numpy()\n",
        "    future_predictions.append(prediction)\n",
        "    recent_data = np.roll(recent_data, -1)\n",
        "    recent_data[-1] = prediction\n",
        "\n",
        "# Inverse transform predictions\n",
        "future_predictions_rescaled = close_scaler.inverse_transform(future_predictions) #rescaled basically is removing the normalisation\n",
        "print(future_predictions_rescaled)"
      ],
      "metadata": {
        "colab": {
          "base_uri": "https://localhost:8080/"
        },
        "id": "PMSIac9i7hu9",
        "outputId": "843918cd-38fe-46c9-c632-d6d9c363cfcf"
      },
      "execution_count": 8,
      "outputs": [
        {
          "output_type": "stream",
          "name": "stdout",
          "text": [
            "[[164.35524514]\n",
            " [164.11732945]\n",
            " [164.09978531]\n",
            " [163.68845268]\n",
            " [163.48131705]]\n"
          ]
        },
        {
          "output_type": "stream",
          "name": "stderr",
          "text": [
            "<ipython-input-8-5248ebaaa145>:11: DeprecationWarning: Conversion of an array with ndim > 0 to a scalar is deprecated, and will error in future. Ensure you extract a single element from your array before performing this operation. (Deprecated NumPy 1.25.)\n",
            "  recent_data[-1] = prediction\n"
          ]
        }
      ]
    },
    {
      "cell_type": "code",
      "source": [
        "current_price = close_scaler.inverse_transform(stock_data_scaled[-1, 3].reshape(-1, 1))\n",
        "\n",
        "# Create trading signals based on predictions\n",
        "trading_signals = []\n",
        "for prediction in future_predictions_rescaled:\n",
        "    if prediction > current_price * 1.01:  # 1% above the current price\n",
        "        trading_signals.append('Buy')\n",
        "    elif prediction < current_price * 0.99:  # 1% below the current price\n",
        "        trading_signals.append('Sell')\n",
        "    else:\n",
        "        trading_signals.append('Hold')\n",
        "print(trading_signals)"
      ],
      "metadata": {
        "colab": {
          "base_uri": "https://localhost:8080/"
        },
        "id": "EhdkRctc79AS",
        "outputId": "b20483e4-1e06-4f61-ea8d-f38ec786e4f8"
      },
      "execution_count": 9,
      "outputs": [
        {
          "output_type": "stream",
          "name": "stdout",
          "text": [
            "['Sell', 'Sell', 'Sell', 'Sell', 'Sell']\n"
          ]
        }
      ]
    },
    {
      "cell_type": "code",
      "source": [],
      "metadata": {
        "id": "rSTOaShh7un1"
      },
      "execution_count": null,
      "outputs": []
    }
  ]
}